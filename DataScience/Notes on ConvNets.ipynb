{
 "cells": [
  {
   "cell_type": "markdown",
   "metadata": {
    "toc": true
   },
   "source": [
    "<h1>Contents<span class=\"tocSkip\"></span></h1>\n",
    "<div class=\"toc\"><ul class=\"toc-item\"><li><span><a href=\"#Object-detection\" data-toc-modified-id=\"Object-detection-1\"><span class=\"toc-item-num\">1&nbsp;&nbsp;</span>Object detection</a></span><ul class=\"toc-item\"><li><span><a href=\"#Object-localisation\" data-toc-modified-id=\"Object-localisation-1.1\"><span class=\"toc-item-num\">1.1&nbsp;&nbsp;</span>Object localisation</a></span></li></ul></li><li><span><a href=\"#Face-recognition\" data-toc-modified-id=\"Face-recognition-2\"><span class=\"toc-item-num\">2&nbsp;&nbsp;</span>Face recognition</a></span></li><li><span><a href=\"#Recurrent\" data-toc-modified-id=\"Recurrent-3\"><span class=\"toc-item-num\">3&nbsp;&nbsp;</span>Recurrent</a></span></li></ul></div>"
   ]
  },
  {
   "cell_type": "markdown",
   "metadata": {},
   "source": [
    "## Object detection"
   ]
  },
  {
   "cell_type": "markdown",
   "metadata": {},
   "source": [
    "### Object localisation"
   ]
  },
  {
   "cell_type": "markdown",
   "metadata": {},
   "source": [
    "Net with two outputs, one for classification and other that outputs 4 numbers, say, $b_x, b_y$ and $b_h,b_w$. $b_x,b_y$ are the position of the center of the object and $b_h,b_w$ is the height and width of the object. The final output is a vector $y$ with\n",
    "$$y = (p_c, b_x, b_y, b_h, b_w, c_1, c_2, c_3)$$\n",
    "where $p_c$ says whether or not there is an object, and $c_n$ is the probability of being object $n$."
   ]
  },
  {
   "cell_type": "markdown",
   "metadata": {},
   "source": [
    "The loss is just a sum of the losses of each part, i.e., sum of MSE and CE."
   ]
  },
  {
   "cell_type": "markdown",
   "metadata": {},
   "source": [
    "Landmark detection: output coordinates of points of interest"
   ]
  },
  {
   "cell_type": "markdown",
   "metadata": {},
   "source": [
    "sliding windows detection, bigger windows. Before deep learning, people used this with linear classifier with crafted features, and it ran ok. But implementing this in a conv net is unfeasible.\n",
    "\n",
    "But there is a way of doing it.\n",
    "\n",
    "Turning FC layer into convolutional layers. Just use a filter the same size as the currect output, and use as many of them as you want nodes in a FC layer."
   ]
  },
  {
   "cell_type": "markdown",
   "metadata": {},
   "source": [
    "Intersection over Union = size of intersection / size of union.\n",
    "\n",
    "\n",
    "Non-max Suppression\n",
    "\n",
    "Anchor Boxes "
   ]
  },
  {
   "cell_type": "markdown",
   "metadata": {},
   "source": [
    "## Face recognition\n",
    "\n",
    "One-shot learning: learn a similarity function that yields the degree of difference between images --> Siamese Network with Triplet Loss:\n",
    "\\begin{equation}\n",
    "    \\mathcal{L}(A,P,N) = \\max(\\,\\,d(A,P)-d(A,N)+\\alpha\\,\\,, 0)\n",
    "\\end{equation}"
   ]
  },
  {
   "cell_type": "markdown",
   "metadata": {},
   "source": [
    "## Recurrent"
   ]
  },
  {
   "cell_type": "markdown",
   "metadata": {},
   "source": []
  },
  {
   "cell_type": "markdown",
   "metadata": {},
   "source": []
  },
  {
   "cell_type": "markdown",
   "metadata": {},
   "source": []
  },
  {
   "cell_type": "markdown",
   "metadata": {},
   "source": []
  },
  {
   "cell_type": "markdown",
   "metadata": {},
   "source": []
  }
 ],
 "metadata": {
  "kernelspec": {
   "display_name": "Python 3",
   "language": "python",
   "name": "python3"
  },
  "language_info": {
   "codemirror_mode": {
    "name": "ipython",
    "version": 3
   },
   "file_extension": ".py",
   "mimetype": "text/x-python",
   "name": "python",
   "nbconvert_exporter": "python",
   "pygments_lexer": "ipython3",
   "version": "3.6.7"
  },
  "toc": {
   "base_numbering": 1,
   "nav_menu": {},
   "number_sections": true,
   "sideBar": true,
   "skip_h1_title": true,
   "title_cell": "Contents",
   "title_sidebar": "Contents",
   "toc_cell": true,
   "toc_position": {},
   "toc_section_display": true,
   "toc_window_display": false
  },
  "varInspector": {
   "cols": {
    "lenName": 16,
    "lenType": 16,
    "lenVar": 40
   },
   "kernels_config": {
    "python": {
     "delete_cmd_postfix": "",
     "delete_cmd_prefix": "del ",
     "library": "var_list.py",
     "varRefreshCmd": "print(var_dic_list())"
    },
    "r": {
     "delete_cmd_postfix": ") ",
     "delete_cmd_prefix": "rm(",
     "library": "var_list.r",
     "varRefreshCmd": "cat(var_dic_list()) "
    }
   },
   "types_to_exclude": [
    "module",
    "function",
    "builtin_function_or_method",
    "instance",
    "_Feature"
   ],
   "window_display": false
  }
 },
 "nbformat": 4,
 "nbformat_minor": 2
}
