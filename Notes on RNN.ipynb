{
 "cells": [
  {
   "cell_type": "markdown",
   "metadata": {},
   "source": [
    "$\n",
    "\\newcommand{\\pdv}[2]{\\frac{\\partial #1}{\\partial #2}}\n",
    "\\newcommand{\\ipdv}[2]{\\partial #1/\\partial #2}\n",
    "\\newcommand{\\dd}[1]{\\,\\textit{d}#1\\,}\n",
    "\\newcommand{\\softmax}[1]{\\Softmax\\left(#1\\right)}\n",
    "\\newcommand{\\smax}[1]{\\Smax\\left(#1\\right)}\n",
    "\\newcommand{\\exp}[1]{e^{#1}}\n",
    "\\newcommand{\\grad}{\\nabla}\n",
    "\\newcommand{\\R}{\\mathbb{R}}\n",
    "\\newcommand{\\N}{\\mathbb{N}}\n",
    "\\newcommand{\\set}[1]{\\left\\{#1\\right\\}}\n",
    "\\newcommand{\\idm}{\\mathbb{1}}  % \\idm identity matrix\n",
    "\\newcommand{\\mean}[1]{\\left\\langle #1 \\right\\rangle}\n",
    "\\DeclareMathOperator{\\Softmax}{softmax}\n",
    "\\DeclareMathOperator{\\expval}{\\mathbb{E}}\n",
    "\\DeclareMathOperator{\\Smax}{smax}\n",
    "\\DeclareMathOperator{\\relu}{ReLU}\n",
    "\\DeclareMathOperator{\\mat}{Mat}\n",
    "\\DeclareMathOperator{\\GL}{GL}\n",
    "\\DeclareMathOperator{\\SL}{SL}\n",
    "\\DeclareMathOperator{\\diag}{diag}\n",
    "\\DeclareMathOperator{\\sgn}{sgn}\n",
    "\\DeclareMathOperator{\\lexp}{exp}\n",
    "$"
   ]
  },
  {
   "cell_type": "markdown",
   "metadata": {
    "toc": true
   },
   "source": [
    "<h1>Contents<span class=\"tocSkip\"></span></h1>\n",
    "<div class=\"toc\"><ul class=\"toc-item\"><li><span><a href=\"#Sequence-Models\" data-toc-modified-id=\"Sequence-Models-1\"><span class=\"toc-item-num\">1&nbsp;&nbsp;</span>Sequence Models</a></span></li><li><span><a href=\"#Summary-of-RNN-types\" data-toc-modified-id=\"Summary-of-RNN-types-2\"><span class=\"toc-item-num\">2&nbsp;&nbsp;</span>Summary of RNN types</a></span></li><li><span><a href=\"#Gated-Recurrent-Unit\" data-toc-modified-id=\"Gated-Recurrent-Unit-3\"><span class=\"toc-item-num\">3&nbsp;&nbsp;</span>Gated Recurrent Unit</a></span></li></ul></div>"
   ]
  },
  {
   "cell_type": "markdown",
   "metadata": {},
   "source": [
    "## Sequence Models"
   ]
  },
  {
   "cell_type": "markdown",
   "metadata": {},
   "source": [
    "* Given a sequence $x$, each word is denoted by $x^{\\mean{t}}$\n",
    "* The length of a sequence $x$ is denoted by $T_x$\n",
    "* Given multiple examples, we denote $x^{(m)\\mean{t}}$ the $t$-th element of the $m$-th sequence, and similarly we denote the length of the $m$-th sequence by $T_x^{(m)}$"
   ]
  },
  {
   "cell_type": "markdown",
   "metadata": {},
   "source": [
    "We create a dictionary, or vocabulary, of words, say, with 10 thousand words. Dictionaries as large as 100 thousand words are not uncommon, and dictionaries with 1 million words show up in some large companies. \n",
    "\n",
    "Each word is one-hot encodded with the dictionary, so if a dictionary has 10 thousand words, each word is represented by a 10 thousand elements vector."
   ]
  },
  {
   "cell_type": "markdown",
   "metadata": {},
   "source": [
    "* $a^{\\mean{0}} = 0$\n",
    "* $a^{\\mean{1}} = g_a\\Big( w_{aa}a^{\\mean{0}} + w_{ax}x^{\\mean{1}} + b_a \\Big)$, with $g_a$ usually a $\\tanh$ or $\\relu$.\n",
    "* $\\hat{y}^{\\mean{1}} = g_y\\Big( w_{ya}a^{\\mean{1}} + b_y \\Big)$, with $g_y$ depending on the task given: for a simple classification it could be a sigmoid, for example.\n",
    "\n",
    "* So, in general \n",
    "\\begin{equation}\n",
    "    a^{\\mean{t}} = g_a\\Big( w_{aa}a^{\\mean{t-1}} + w_{ax}x^{\\mean{t}} + b_a \\Big),\n",
    "\\end{equation}\n",
    "and\n",
    "\\begin{equation}\n",
    "    \\hat{y}^{\\mean{t}} = g_y\\Big( w_{ya}a^{\\mean{t}} + b_y \\Big)\n",
    "\\end{equation}\n",
    "\n",
    "To simplify the notation, lets denote\n",
    "\\begin{equation}\n",
    "    w_a = [w_{aa} | w_{ax}],\n",
    "\\end{equation}\n",
    "and then\n",
    "\\begin{equation}\n",
    "    a^{\\mean{t}} = g_a\\Big( w_{a}[a^{\\mean{t-1}},x^{\\mean{t}}] + b_a \\Big).\n",
    "\\end{equation}\n",
    "\n",
    "So if $a$ was 100 dimensional and $x$ was 10 thousand dimensional, then $w_{aa}$ would be $(100,100)$, $w_{ax}$ would be $(100,10000)$, and finally $w_a$ would be $(100,100+10000)$. On the other hand, $[a^{\\mean{t-1}},x^{\\mean{t}}]$ has dimension $(100+10000,1)$\n",
    "\n",
    "\n",
    "# Backpropagation through time"
   ]
  },
  {
   "cell_type": "markdown",
   "metadata": {},
   "source": [
    "## Summary of RNN types\n",
    "\n",
    "* One to one\n",
    "* One to many\n",
    "* Many to one\n",
    "* Many to many with $T_x = T_y$\n",
    "* Many to many with $T_x \\neq T_y$ \n"
   ]
  },
  {
   "cell_type": "markdown",
   "metadata": {},
   "source": [
    "## Gated Recurrent Unit"
   ]
  },
  {
   "cell_type": "markdown",
   "metadata": {},
   "source": [
    "* Memory cell denoted by $c$, with $c^{\\mean{t}} = a^{\\mean{t}}$.\n",
    "* Current memory denoted by $\\tilde{c}$, with $\\tilde{c}^{\\mean{t}} = \\tanh\\Big( w_c \\big[c^{\\mean{t-1}},x^{\\mean{t}} \\big] + b_c \\Big)$\n",
    "* Probability of updating memory denoted by $\\Gamma_u$ with $\\Gamma_u = \\sigma\\Big( w_u \\big[c^{\\mean{t-1}},x^{\\mean{t}} \\big] + b_u \\Big)$\n",
    "* New memory cell:\n",
    "\\begin{equation}\n",
    "    c^{\\mean{t}} = \\Gamma_u * \\tilde{c}^{\\mean{t}}+ (1-\\Gamma_u)*c^{\\mean{t-1}}\n",
    "\\end{equation}"
   ]
  },
  {
   "cell_type": "markdown",
   "metadata": {},
   "source": []
  },
  {
   "cell_type": "markdown",
   "metadata": {},
   "source": []
  },
  {
   "cell_type": "markdown",
   "metadata": {},
   "source": []
  }
 ],
 "metadata": {
  "kernelspec": {
   "display_name": "Python 3",
   "language": "python",
   "name": "python3"
  },
  "language_info": {
   "codemirror_mode": {
    "name": "ipython",
    "version": 3
   },
   "file_extension": ".py",
   "mimetype": "text/x-python",
   "name": "python",
   "nbconvert_exporter": "python",
   "pygments_lexer": "ipython3",
   "version": "3.6.7"
  },
  "toc": {
   "base_numbering": 1,
   "nav_menu": {},
   "number_sections": true,
   "sideBar": true,
   "skip_h1_title": true,
   "title_cell": "Contents",
   "title_sidebar": "Contents",
   "toc_cell": true,
   "toc_position": {},
   "toc_section_display": true,
   "toc_window_display": false
  },
  "varInspector": {
   "cols": {
    "lenName": 16,
    "lenType": 16,
    "lenVar": 40
   },
   "kernels_config": {
    "python": {
     "delete_cmd_postfix": "",
     "delete_cmd_prefix": "del ",
     "library": "var_list.py",
     "varRefreshCmd": "print(var_dic_list())"
    },
    "r": {
     "delete_cmd_postfix": ") ",
     "delete_cmd_prefix": "rm(",
     "library": "var_list.r",
     "varRefreshCmd": "cat(var_dic_list()) "
    }
   },
   "types_to_exclude": [
    "module",
    "function",
    "builtin_function_or_method",
    "instance",
    "_Feature"
   ],
   "window_display": false
  }
 },
 "nbformat": 4,
 "nbformat_minor": 2
}
